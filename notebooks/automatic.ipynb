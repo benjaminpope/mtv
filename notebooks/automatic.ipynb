{
 "cells": [
  {
   "cell_type": "code",
   "execution_count": 1,
   "metadata": {},
   "outputs": [],
   "source": [
    "%load_ext autoreload\n",
    "%autoreload 2\n",
    "import numpy as np\n",
    "import matplotlib.pyplot as plt\n",
    "from astropy import units as u\n",
    "from astropy.table import Table\n",
    "from astropy.time import Time\n",
    "import lightkurve as lk\n",
    "from matplotlib.collections import LineCollection\n",
    "from tqdm import tqdm_notebook\n",
    "\n",
    "import glob, os\n",
    "\n",
    "from astropy.table import Table\n",
    "plt.rcParams['font.size'] = 20"
   ]
  },
  {
   "cell_type": "code",
   "execution_count": 2,
   "metadata": {},
   "outputs": [],
   "source": [
    "from scripts import *"
   ]
  },
  {
   "cell_type": "code",
   "execution_count": 4,
   "metadata": {},
   "outputs": [],
   "source": [
    "# targets2 = Table.read('m_dwarf_dections_27_03_20_correct_fluxes.fits')"
   ]
  },
  {
   "cell_type": "code",
   "execution_count": null,
   "metadata": {},
   "outputs": [],
   "source": [
    "# targets2['common_name']"
   ]
  },
  {
   "cell_type": "code",
   "execution_count": 6,
   "metadata": {},
   "outputs": [],
   "source": [
    "# targets = Table.read('names_best_cands_4sig_stokesv_clean_leakage_gaia_propermotion_applied stars_added_2019_10_24.fits')\n",
    "# names = targets['common_name']\n",
    "name = 'CR Dra'\n",
    "# name = names[2].strip()\n",
    "name = '44 Boo'\n",
    "name = 'GJ 1151'\n",
    "name ='CR Dra'\n",
    "name = 'HAT 182-00605' \n",
    "name ='TIC 453430899'\n",
    "\n",
    "stars_simultaneous = {'GJ 450':'2020-03-16T20:11:00',\n",
    "         'GJ 3861':'2020-02-19T23:57:00',\n",
    "         '2MASS J09481615+5114518':'2020-01-31T20:45:40',\n",
    "         'LP 212-62':'2020-02-04T20:48:20'}\n",
    "stars_simultaneous = {'EW Dra': '2020-04-02T22:55:34',\n",
    "                      'HD 233153': '2019-12-12T19:41:00',\n",
    "                      'HD 37394':'2019-12-12T19:41:00',\n",
    "                      'Tau Boo': '2019-07-06T14:26:09',\n",
    "                      'Wolf 1069': '2019-08-05T19:05:52',\n",
    "                      'Ross 567': '2019-11-28T20:11:00',\n",
    "                      'G262-15': '2019-08-17T18:06:56',\n",
    "                      'UCAC4 642-113039':'2019-09-26T17:09:42',\n",
    "                      'G258-33':'2019-11-10T10:48:00',\n",
    "                      'G 227-22':'2019-11-10T10:48:00',\n",
    "                      'IRAS21500+5903':'2019-09-18T18:11:00',\n",
    "                      '54 Psc':'2019-10-19T18:11:00',\n",
    "                      'HD 10780':'2019-11-03T18:31:10',\n",
    "                      'UCAC4 655-108663': '2019-10-05T17:11:00',\n",
    "                      'HD 223778 B': '2019-11-20T17:11:00',\n",
    "                      'WX UMa': '2019-11-29T05:11:00',\n",
    "                      'GJ 450':'2020-03-16T20:11:00',\n",
    "                      'GJ 3861':'2020-02-19T23:57:00',\n",
    "                      '2MASS J09481615+5114518':'2020-01-31T20:45:40',\n",
    "                      'LP 212-62':'2020-02-04T20:48:20'\n",
    "}\n",
    "\n",
    "\n",
    "whichstar = 1\n",
    "name = list(stars_simultaneous.keys())[whichstar]\n",
    "name = 'HD 223778 B'\n",
    "# name = 'G 227-22'\n",
    "name = 'HD 233153'\n",
    "name = \"WX UMa\"\n",
    "\n",
    "\n",
    "\n",
    "radius = 30.0"
   ]
  },
  {
   "cell_type": "code",
   "execution_count": 7,
   "metadata": {},
   "outputs": [
    {
     "data": {
      "text/plain": [
       "True"
      ]
     },
     "execution_count": 7,
     "metadata": {},
     "output_type": "execute_result"
    }
   ],
   "source": [
    "# name = 'BQ CVn' \n",
    "name in stars_simultaneous.keys()"
   ]
  },
  {
   "cell_type": "code",
   "execution_count": 8,
   "metadata": {},
   "outputs": [
    {
     "data": {
      "text/plain": [
       "['EW Dra',\n",
       " 'HD 233153',\n",
       " 'HD 37394',\n",
       " 'Tau Boo',\n",
       " 'Wolf 1069',\n",
       " 'Ross 567',\n",
       " 'G262-15',\n",
       " 'UCAC4 642-113039',\n",
       " 'G258-33',\n",
       " 'G 227-22',\n",
       " 'IRAS21500+5903',\n",
       " '54 Psc',\n",
       " 'HD 10780',\n",
       " 'UCAC4 655-108663',\n",
       " 'HD 223778 B',\n",
       " 'WX UMa',\n",
       " 'GJ 450',\n",
       " 'GJ 3861',\n",
       " '2MASS J09481615+5114518',\n",
       " 'LP 212-62']"
      ]
     },
     "execution_count": 8,
     "metadata": {},
     "output_type": "execute_result"
    }
   ],
   "source": [
    "list(stars_simultaneous.keys())"
   ]
  },
  {
   "cell_type": "code",
   "execution_count": 9,
   "metadata": {},
   "outputs": [
    {
     "name": "stderr",
     "output_type": "stream",
     "text": [
      "<ipython-input-9-6f57a2f8fb4d>:2: LightkurveDeprecationWarning: The search_lightcurvefile function is deprecated and may be removed in a future version.\n",
      "        Use search_lightcurve() instead.\n",
      "  search=lk.search_lightcurvefile(name,radius=radius*50)\n"
     ]
    }
   ],
   "source": [
    "# name = 'GJ 625'\n",
    "search=lk.search_lightcurvefile(name,radius=radius*50)"
   ]
  },
  {
   "cell_type": "code",
   "execution_count": 10,
   "metadata": {},
   "outputs": [
    {
     "data": {
      "text/html": [
       "SearchResult containing 90 data products.\n",
       "\n",
       "<table id=\"table140236746105184\">\n",
       "<thead><tr><th>#</th><th>mission</th><th>year</th><th>author</th><th>exptime</th><th>target_name</th><th>distance</th></tr></thead>\n",
       "<thead><tr><th></th><th></th><th></th><th></th><th>s</th><th></th><th>arcsec</th></tr></thead>\n",
       "<tr><td>0</td><td>TESS Sector 21</td><td>2020</td><td><a href='https://archive.stsci.edu/hlsp/qlp'>QLP</a></td><td>1800</td><td>252803606</td><td>0.0</td></tr>\n",
       "<tr><td>1</td><td>TESS Sector 21</td><td>2020</td><td><a href='https://archive.stsci.edu/hlsp/qlp'>QLP</a></td><td>1800</td><td>471011175</td><td>25.2</td></tr>\n",
       "<tr><td>2</td><td>TESS Sector 21</td><td>2020</td><td><a href='https://heasarc.gsfc.nasa.gov/docs/tess/pipeline.html'>SPOC</a></td><td>120</td><td>252803603</td><td>26.3</td></tr>\n",
       "<tr><td>3</td><td>TESS Sector 21</td><td>2020</td><td><a href='https://archive.stsci.edu/hlsp/tess-spoc'>TESS-SPOC</a></td><td>1800</td><td>252803603</td><td>27.3</td></tr>\n",
       "<tr><td>4</td><td>TESS Sector 21</td><td>2020</td><td><a href='https://archive.stsci.edu/hlsp/qlp'>QLP</a></td><td>1800</td><td>252803603</td><td>27.3</td></tr>\n",
       "<tr><td>5</td><td>TESS Sector 21</td><td>2020</td><td><a href='https://archive.stsci.edu/hlsp/qlp'>QLP</a></td><td>1800</td><td>900240536</td><td>95.0</td></tr>\n",
       "<tr><td>6</td><td>TESS Sector 21</td><td>2020</td><td><a href='https://archive.stsci.edu/hlsp/tess-spoc'>TESS-SPOC</a></td><td>1800</td><td>252803600</td><td>109.4</td></tr>\n",
       "<tr><td>7</td><td>TESS Sector 21</td><td>2020</td><td><a href='https://archive.stsci.edu/hlsp/qlp'>QLP</a></td><td>1800</td><td>252803600</td><td>109.4</td></tr>\n",
       "<tr><td>8</td><td>TESS Sector 21</td><td>2020</td><td><a href='https://archive.stsci.edu/hlsp/qlp'>QLP</a></td><td>1800</td><td>252803607</td><td>245.8</td></tr>\n",
       "<tr><td>9</td><td>TESS Sector 21</td><td>2020</td><td><a href='https://archive.stsci.edu/hlsp/qlp'>QLP</a></td><td>1800</td><td>252803626</td><td>395.4</td></tr>\n",
       "<tr><td>...</td><td>...</td><td>...</td><td>...</td><td>...</td><td>...</td><td>...</td></tr>\n",
       "<tr><td>80</td><td>TESS Sector 21</td><td>2020</td><td><a href='https://archive.stsci.edu/hlsp/tess-spoc'>TESS-SPOC</a></td><td>1800</td><td>252801755</td><td>1426.3</td></tr>\n",
       "<tr><td>81</td><td>TESS Sector 21</td><td>2020</td><td><a href='https://archive.stsci.edu/hlsp/qlp'>QLP</a></td><td>1800</td><td>252801755</td><td>1426.3</td></tr>\n",
       "<tr><td>82</td><td>TESS Sector 21</td><td>2020</td><td><a href='https://archive.stsci.edu/hlsp/tess-spoc'>TESS-SPOC</a></td><td>1800</td><td>252805427</td><td>1443.8</td></tr>\n",
       "<tr><td>83</td><td>TESS Sector 21</td><td>2020</td><td><a href='https://archive.stsci.edu/hlsp/qlp'>QLP</a></td><td>1800</td><td>252805427</td><td>1443.8</td></tr>\n",
       "<tr><td>84</td><td>TESS Sector 21</td><td>2020</td><td><a href='https://archive.stsci.edu/hlsp/qlp'>QLP</a></td><td>1800</td><td>252799776</td><td>1451.4</td></tr>\n",
       "<tr><td>85</td><td>TESS Sector 21</td><td>2020</td><td><a href='https://archive.stsci.edu/hlsp/qlp'>QLP</a></td><td>1800</td><td>252805445</td><td>1454.0</td></tr>\n",
       "<tr><td>86</td><td>TESS Sector 21</td><td>2020</td><td><a href='https://archive.stsci.edu/hlsp/qlp'>QLP</a></td><td>1800</td><td>252800252</td><td>1468.0</td></tr>\n",
       "<tr><td>87</td><td>TESS Sector 21</td><td>2020</td><td><a href='https://archive.stsci.edu/hlsp/tess-spoc'>TESS-SPOC</a></td><td>1800</td><td>252799759</td><td>1484.1</td></tr>\n",
       "<tr><td>88</td><td>TESS Sector 21</td><td>2020</td><td><a href='https://archive.stsci.edu/hlsp/qlp'>QLP</a></td><td>1800</td><td>252799759</td><td>1484.1</td></tr>\n",
       "<tr><td>89</td><td>TESS Sector 21</td><td>2020</td><td><a href='https://archive.stsci.edu/hlsp/qlp'>QLP</a></td><td>1800</td><td>252805453</td><td>1496.2</td></tr>\n",
       "</table>\n",
       "Length = 90 rows"
      ],
      "text/plain": [
       "SearchResult containing 90 data products.\n",
       "\n",
       " #     mission     year   author  exptime target_name distance\n",
       "                                     s                 arcsec \n",
       "--- -------------- ---- --------- ------- ----------- --------\n",
       "  0 TESS Sector 21 2020       QLP    1800   252803606      0.0\n",
       "  1 TESS Sector 21 2020       QLP    1800   471011175     25.2\n",
       "  2 TESS Sector 21 2020      SPOC     120   252803603     26.3\n",
       "  3 TESS Sector 21 2020 TESS-SPOC    1800   252803603     27.3\n",
       "  4 TESS Sector 21 2020       QLP    1800   252803603     27.3\n",
       "  5 TESS Sector 21 2020       QLP    1800   900240536     95.0\n",
       "  6 TESS Sector 21 2020 TESS-SPOC    1800   252803600    109.4\n",
       "  7 TESS Sector 21 2020       QLP    1800   252803600    109.4\n",
       "  8 TESS Sector 21 2020       QLP    1800   252803607    245.8\n",
       "  9 TESS Sector 21 2020       QLP    1800   252803626    395.4\n",
       "...            ...  ...       ...     ...         ...      ...\n",
       " 80 TESS Sector 21 2020 TESS-SPOC    1800   252801755   1426.3\n",
       " 81 TESS Sector 21 2020       QLP    1800   252801755   1426.3\n",
       " 82 TESS Sector 21 2020 TESS-SPOC    1800   252805427   1443.8\n",
       " 83 TESS Sector 21 2020       QLP    1800   252805427   1443.8\n",
       " 84 TESS Sector 21 2020       QLP    1800   252799776   1451.4\n",
       " 85 TESS Sector 21 2020       QLP    1800   252805445   1454.0\n",
       " 86 TESS Sector 21 2020       QLP    1800   252800252   1468.0\n",
       " 87 TESS Sector 21 2020 TESS-SPOC    1800   252799759   1484.1\n",
       " 88 TESS Sector 21 2020       QLP    1800   252799759   1484.1\n",
       " 89 TESS Sector 21 2020       QLP    1800   252805453   1496.2\n",
       "Length = 90 rows"
      ]
     },
     "execution_count": 10,
     "metadata": {},
     "output_type": "execute_result"
    }
   ],
   "source": [
    "search"
   ]
  },
  {
   "cell_type": "code",
   "execution_count": 23,
   "metadata": {},
   "outputs": [
    {
     "name": "stderr",
     "output_type": "stream",
     "text": [
      "/Users/benjaminpope/code/mtv/notebooks/scripts.py:118: LightkurveDeprecationWarning: The search_lightcurvefile function is deprecated and may be removed in a future version.\n",
      "        Use search_lightcurve() instead.\n",
      "  search = lk.search_lightcurvefile(starname,radius=radius)\n",
      "/Users/benjaminpope/code/mtv/notebooks/scripts.py:125: LightkurveDeprecationWarning: The PDCSAP_FLUX function is deprecated and may be removed in a future version.\n",
      "  d = data.PDCSAP_FLUX.remove_nans().normalize()\n",
      "/Users/benjaminpope/opt/anaconda3/lib/python3.8/site-packages/lightkurve-2.0.9-py3.8.egg/lightkurve/lightcurve.py:990: LightkurveWarning: The light curve already appears to be in relative units; `normalize()` will convert the light curve into relative units for a second time, which is probably not what you want.\n",
      "  warnings.warn(\n"
     ]
    }
   ],
   "source": [
    "tics, time, flux, errs, sects, data_all = load_lightcurve(name,radius=radius)"
   ]
  },
  {
   "cell_type": "code",
   "execution_count": 24,
   "metadata": {},
   "outputs": [
    {
     "data": {
      "text/plain": [
       "[252803606]"
      ]
     },
     "execution_count": 24,
     "metadata": {},
     "output_type": "execute_result"
    }
   ],
   "source": [
    "tics"
   ]
  },
  {
   "cell_type": "code",
   "execution_count": 26,
   "metadata": {},
   "outputs": [
    {
     "name": "stderr",
     "output_type": "stream",
     "text": [
      "Finding most likely periods: 100%|██████████| 1/1 [00:00<00:00,  2.59it/s]"
     ]
    },
    {
     "name": "stdout",
     "output_type": "stream",
     "text": [
      "0.964535546433368\n"
     ]
    },
    {
     "name": "stderr",
     "output_type": "stream",
     "text": [
      "\n"
     ]
    }
   ],
   "source": [
    "period = get_rotation_period(tics,time,flux,errs)\n",
    "print(period)"
   ]
  },
  {
   "cell_type": "code",
   "execution_count": null,
   "metadata": {},
   "outputs": [],
   "source": [
    "avg_preds = run_cnn(tics,time,flux,errs)"
   ]
  },
  {
   "cell_type": "code",
   "execution_count": null,
   "metadata": {},
   "outputs": [],
   "source": [
    "flare_table = get_flares(tics,time,flux,avg_preds,errs)\n",
    "flare_table.write('flares_%s.csv' % (name.replace(' ','_').lower()),format='ascii')"
   ]
  },
  {
   "cell_type": "code",
   "execution_count": null,
   "metadata": {},
   "outputs": [],
   "source": [
    "flare_rate = get_flare_rate(time,flare_table)\n",
    "print(flare_rate)"
   ]
  },
  {
   "cell_type": "code",
   "execution_count": null,
   "metadata": {},
   "outputs": [],
   "source": [
    "groups,sectors = group_sectors(data_all)\n",
    "ngroups = len(groups)\n",
    "width_ratios = [len(group) for group in groups] \n",
    "fig, axes = plt.subplots(ncols=ngroups, figsize=(ngroups*7*2,4*2),\n",
    "                           sharey=True, gridspec_kw={'width_ratios':width_ratios})\n",
    "for j, g in enumerate(groups):\n",
    "    if len(groups)>1:\n",
    "        ax = axes[j]\n",
    "    else:\n",
    "        ax = axes\n",
    "    if j == 0:\n",
    "        ax.set_ylabel('Normalized Flux')\n",
    "    for i in g:\n",
    "        ax.scatter(time[i], flux[i], c=avg_preds[i],\n",
    "                    vmin=0, vmax=1, s=6)\n",
    "    if len(g)==1:\n",
    "        ax.set_title('Sector '+str(sectors[g[0]]),y=1.01)\n",
    "    else:\n",
    "        ss = [sectors[s] for s in g]\n",
    "        ax.set_title('Sectors ' + \", \".join([str(s) for s in ss]),y=1.01)\n",
    "    ax.set_xlabel('TJD')\n",
    "yrange = np.percentile(np.hstack(flux),(2,50,98))\n",
    "lims = (yrange[1]-1.0*(yrange[2]-yrange[0]), yrange[1]+1.0*(yrange[2]-yrange[0]))\n",
    "# plt.ylim(*lims)\n",
    "plt.subplots_adjust(wspace=0.1)\n",
    "plt.savefig('results/flare_lc_%s_nozoom.png' % (name.replace(' ','_').lower()),bbox_inches='tight')"
   ]
  },
  {
   "cell_type": "code",
   "execution_count": null,
   "metadata": {},
   "outputs": [],
   "source": [
    "data_all[0].PDCSAP_FLUX.scatter()\n",
    "plt.xlim(1895,1897)"
   ]
  },
  {
   "cell_type": "code",
   "execution_count": null,
   "metadata": {},
   "outputs": [],
   "source": [
    "do_plots(tics,time,flux,avg_preds,errs,data_all)\n",
    "plt.savefig('results/flare_lc_%s.png' % (name.replace(' ','_').lower()),bbox_inches='tight')"
   ]
  },
  {
   "cell_type": "code",
   "execution_count": null,
   "metadata": {},
   "outputs": [],
   "source": [
    "from scipy.ndimage import binary_dilation"
   ]
  },
  {
   "cell_type": "code",
   "execution_count": null,
   "metadata": {},
   "outputs": [],
   "source": [
    "tpf = lk.search_targetpixelfile('TIC 252803603').download()"
   ]
  },
  {
   "cell_type": "code",
   "execution_count": null,
   "metadata": {},
   "outputs": [],
   "source": [
    "newmask = tpf.create_threshold_mask()\n",
    "newmask = binary_dilation(newmask)\n",
    "tpf.plot(aperture_mask=newmask,scale='log')\n",
    "bigger = tpf.to_lightcurve(aperture_mask=newmask)"
   ]
  },
  {
   "cell_type": "code",
   "execution_count": null,
   "metadata": {},
   "outputs": [],
   "source": [
    "fig, axes = plt.subplots(6,9,figsize=(18.0*1.5,12.0*1.5))\n",
    "pixels = tpf.flux[:,newmask]\n",
    "for j in range(pixels.shape[1]):\n",
    "    ax = axes.ravel()[j]\n",
    "    ax.set_xticks([])\n",
    "    ax.set_yticks([])\n",
    "    ax.plot(pixels[:,j],'-k',alpha=(np.nanmedian(pixels[:,j])/np.nanmax(pixels))**0.25)"
   ]
  },
  {
   "cell_type": "code",
   "execution_count": null,
   "metadata": {},
   "outputs": [],
   "source": [
    "tpf.interact()"
   ]
  },
  {
   "cell_type": "code",
   "execution_count": null,
   "metadata": {},
   "outputs": [],
   "source": [
    "test = lk.open('tess2020020091053-s0021-0000000252803603-0167-s_tp-custom-lc.fits')"
   ]
  },
  {
   "cell_type": "code",
   "execution_count": null,
   "metadata": {},
   "outputs": [],
   "source": [
    "corrector = lk.TessPLDCorrector(tpf)"
   ]
  },
  {
   "cell_type": "code",
   "execution_count": null,
   "metadata": {},
   "outputs": [],
   "source": [
    "# corrector.aperture_mask = newmask\n",
    "newlc = corrector.correct()"
   ]
  },
  {
   "cell_type": "code",
   "execution_count": null,
   "metadata": {},
   "outputs": [],
   "source": [
    "plt.imshow(corrector.aperture_mask)"
   ]
  },
  {
   "cell_type": "code",
   "execution_count": null,
   "metadata": {},
   "outputs": [],
   "source": [
    "corrector.diagnose()"
   ]
  },
  {
   "cell_type": "code",
   "execution_count": null,
   "metadata": {},
   "outputs": [],
   "source": [
    "newlc.scatter()"
   ]
  },
  {
   "cell_type": "code",
   "execution_count": null,
   "metadata": {},
   "outputs": [],
   "source": [
    "# basic = data_all[0]\n",
    "basic."
   ]
  },
  {
   "cell_type": "code",
   "execution_count": null,
   "metadata": {},
   "outputs": [],
   "source": [
    "test.scatter()\n",
    "plt.xlim(1885,1890)"
   ]
  },
  {
   "cell_type": "code",
   "execution_count": null,
   "metadata": {},
   "outputs": [],
   "source": [
    "dates_all = [lk.btjd_to_astropy_time(t) for t in time]\n",
    "for j in range(len(dates_all)):\n",
    "    print(dates_all[j].min().decimalyear,dates_all[j].max().decimalyear)"
   ]
  },
  {
   "cell_type": "code",
   "execution_count": null,
   "metadata": {},
   "outputs": [],
   "source": [
    "final = data_all[-1]"
   ]
  },
  {
   "cell_type": "code",
   "execution_count": null,
   "metadata": {},
   "outputs": [],
   "source": [
    "lk.btjd_to_astropy_time(final.time).datetime64"
   ]
  },
  {
   "cell_type": "code",
   "execution_count": null,
   "metadata": {},
   "outputs": [],
   "source": [
    "tstart = date\n",
    "\n",
    "t = Time(tstart, format='isot', scale='utc')\n",
    "\n",
    "print(t.decimalyear)"
   ]
  },
  {
   "cell_type": "code",
   "execution_count": null,
   "metadata": {},
   "outputs": [],
   "source": [
    "np.hstack(time)"
   ]
  },
  {
   "cell_type": "code",
   "execution_count": null,
   "metadata": {},
   "outputs": [],
   "source": [
    "from astropy.time import Time, TimeDelta\n",
    "\n",
    "dates = lk.btjd_to_astropy_time(np.hstack(time))\n",
    "\n",
    "# tstart = '2020-05-15T20:11:00'\n",
    "tstart = date\n",
    "t = Time(tstart, format='isot', scale='utc')\n",
    "dt = TimeDelta(3600.*8., format='sec')\n",
    "tfinish = t+dt\n",
    "\n",
    "fig = plt.figure(figsize=(8.0,6.0))\n",
    "plt.scatter(dates.decimalyear-2020,np.hstack(flux),c=np.hstack(avg_preds),\n",
    "                    vmin=0, vmax=1, s=6)\n",
    "# plt.xlim(t.decimalyear-2020,tfinish.decimalyear-2020)\n",
    "plt.axvline(t.decimalyear-2020)\n",
    "plt.axvline(tfinish.decimalyear-2020)\n",
    "plt.xlabel('Decimal Year - 2020')\n",
    "plt.ylabel('Flux')\n",
    "# plt.ylim(0.98,1.01)\n",
    "# plt.xlim(t.decimalyear-2020-0.05,tfinish.decimalyear-2020+0.05)\n",
    "plt.colorbar()\n",
    "plt.title(name+' Simultaneous TESS')\n",
    "savename= (name.replace(' ','_').lower())\n",
    "plt.savefig('results/%s_simultaneous.png' %  savename,bbox_inches='tight')"
   ]
  },
  {
   "cell_type": "code",
   "execution_count": null,
   "metadata": {},
   "outputs": [],
   "source": [
    "data_all[0].targetid"
   ]
  },
  {
   "cell_type": "code",
   "execution_count": null,
   "metadata": {},
   "outputs": [],
   "source": [
    "dates.shape"
   ]
  },
  {
   "cell_type": "code",
   "execution_count": null,
   "metadata": {},
   "outputs": [],
   "source": [
    "f = open('results/%s_output.txt' % (name.replace(' ','_').lower()),'w')\n",
    "f.write('%s\\n%f\\n%f\\n' % (name,period,flare_rate.value))\n",
    "f.close()"
   ]
  },
  {
   "cell_type": "code",
   "execution_count": null,
   "metadata": {},
   "outputs": [],
   "source": [
    "savedir = 'results/'\n",
    "\n",
    "saved_files = glob.glob(savedir+'*')\n"
   ]
  },
  {
   "cell_type": "code",
   "execution_count": null,
   "metadata": {},
   "outputs": [],
   "source": [
    "# saved_files"
   ]
  },
  {
   "cell_type": "code",
   "execution_count": null,
   "metadata": {},
   "outputs": [],
   "source": []
  }
 ],
 "metadata": {
  "kernelspec": {
   "display_name": "Python 3",
   "language": "python",
   "name": "python3"
  },
  "language_info": {
   "codemirror_mode": {
    "name": "ipython",
    "version": 3
   },
   "file_extension": ".py",
   "mimetype": "text/x-python",
   "name": "python",
   "nbconvert_exporter": "python",
   "pygments_lexer": "ipython3",
   "version": "3.8.5"
  }
 },
 "nbformat": 4,
 "nbformat_minor": 2
}
